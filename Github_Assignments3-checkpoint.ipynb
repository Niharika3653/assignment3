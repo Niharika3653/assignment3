{
 "cells": [
  {
   "cell_type": "markdown",
   "id": "3d9dd19e",
   "metadata": {},
   "source": [
    "# Create a Function, which takes three arguments, first argument should be dictionary, second argument should be integer, third argument should be another dictionary. \n",
    "\n"
   ]
  },
  {
   "cell_type": "markdown",
   "id": "0f255c7a",
   "metadata": {},
   "source": [
    "# Based on the integer value (consider this as index, which starts at 0), insert new dictionary values at index position in first dictionary, and return new dictionary. "
   ]
  },
  {
   "cell_type": "code",
   "execution_count": 6,
   "id": "37738beb",
   "metadata": {},
   "outputs": [
    {
     "name": "stdout",
     "output_type": "stream",
     "text": [
      "Enter a number : 3\n"
     ]
    }
   ],
   "source": [
    "p={'a':10,'b':20,'c':30}\n",
    "q=int(input(\"Enter a number : \"))\n",
    "r={1:'green',2:'orange',3:'blue'}\n",
    "def argument(p,q,r):\n",
    "    k=0\n",
    "    x={}\n",
    "    if q<len(p):\n",
    "        for i in list(p.keys()):\n",
    "            if q==k:\n",
    "                x.update(r)\n",
    "            x[i]=p[i]\n",
    "            k+=1\n",
    "        print(x)\n",
    "    else:\n",
    "        p.update(r)\n",
    "        print(p)\n"
   ]
  },
  {
   "cell_type": "code",
   "execution_count": 7,
   "id": "68e2a311",
   "metadata": {},
   "outputs": [
    {
     "name": "stdout",
     "output_type": "stream",
     "text": [
      "{'a': 10, 'b': 20, 'c': 30, 1: 'green', 2: 'orange', 3: 'blue'}\n"
     ]
    }
   ],
   "source": [
    "argument(p,q,r)"
   ]
  },
  {
   "cell_type": "code",
   "execution_count": null,
   "id": "ccb7d68b",
   "metadata": {},
   "outputs": [],
   "source": []
  }
 ],
 "metadata": {
  "kernelspec": {
   "display_name": "Python 3 (ipykernel)",
   "language": "python",
   "name": "python3"
  },
  "language_info": {
   "codemirror_mode": {
    "name": "ipython",
    "version": 3
   },
   "file_extension": ".py",
   "mimetype": "text/x-python",
   "name": "python",
   "nbconvert_exporter": "python",
   "pygments_lexer": "ipython3",
   "version": "3.10.9"
  }
 },
 "nbformat": 4,
 "nbformat_minor": 5
}
